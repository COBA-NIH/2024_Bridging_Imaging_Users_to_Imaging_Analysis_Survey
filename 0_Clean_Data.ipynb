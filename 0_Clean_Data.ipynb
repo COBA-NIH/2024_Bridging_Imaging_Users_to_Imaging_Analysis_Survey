{
 "cells": [
  {
   "cell_type": "code",
   "execution_count": 1,
   "id": "a78c49f6",
   "metadata": {},
   "outputs": [],
   "source": [
    "import pandas as pd\n",
    "import os"
   ]
  },
  {
   "cell_type": "code",
   "execution_count": 2,
   "id": "0c7a1818",
   "metadata": {},
   "outputs": [],
   "source": [
    "raw_data = pd.read_csv(os.path.join('data','raw_responses.csv'))\n",
    "df = raw_data.copy(deep=True)"
   ]
  },
  {
   "cell_type": "code",
   "execution_count": 3,
   "id": "a2c48d26",
   "metadata": {},
   "outputs": [
    {
     "name": "stdout",
     "output_type": "stream",
     "text": [
      "(483, 85)\n",
      "(483, 85)\n"
     ]
    }
   ],
   "source": [
    "# All respondents agree to terms and conditions\n",
    "print(raw_data.shape)\n",
    "print(raw_data.loc[raw_data['I agree to these terms and conditions'] == 'Yes'].shape)"
   ]
  },
  {
   "cell_type": "code",
   "execution_count": 4,
   "id": "3ca14205",
   "metadata": {},
   "outputs": [],
   "source": [
    "col = 'Which of the following roles best describes you?'\n",
    "\n",
    "# Job roles are multi-select in input\n",
    "# Create a new column with single roles\n",
    "df['Single_Role'] = 'TBD'\n",
    "df.loc[df[col].str.contains('Undergraduate'),'Single_Role'] = 'Student'\n",
    "df.loc[df[col].str.contains('Postdoctoral'),'Single_Role'] = 'Postdoctoral Fellow'\n",
    "df.loc[df[col].str.contains('staff'),'Single_Role'] = 'Faculty/Staff'\n",
    "df.loc[df[col].str.contains('engineer'),'Single_Role'] = 'Faculty/Staff'\n",
    "df.loc[df[col]=='Image/data analyst','Single_Role'] = 'Faculty/Staff'\n",
    "df.loc[df[col].str.contains('director'),'Single_Role'] = 'Facility Director/Manager'\n",
    "df.loc[df[col].str.contains('investigator'),'Single_Role'] = 'Principle Investigator'\n",
    "df.loc[df[col].str.contains('Clinician'),'Single_Role'] = 'Clinician'"
   ]
  },
  {
   "cell_type": "code",
   "execution_count": 5,
   "id": "33a79f81",
   "metadata": {},
   "outputs": [],
   "source": [
    "col = 'Which of the following roles best describes you?'\n",
    "df['Trainee_Status'] = 'Non Trainee'\n",
    "df.loc[df[col].str.contains('Undergraduate'),'Trainee_Status'] = 'Trainee'\n",
    "df.loc[df[col].str.contains('Postdoctoral'),'Trainee_Status'] = 'Trainee'"
   ]
  },
  {
   "cell_type": "code",
   "execution_count": 6,
   "id": "16609338",
   "metadata": {},
   "outputs": [],
   "source": [
    "col = 'How do you generally go about solving an image analysis problem? Check the approach(es) you use the most.' \n",
    "\n",
    "# having ', ' pattern in text response is problematic for parsing multi-select\n",
    "df[col] = df[col].str.replace(\" \\(ChatGPT, BioimageIO, etc\\)\",\"\", regex=True)\n"
   ]
  },
  {
   "cell_type": "code",
   "execution_count": 7,
   "id": "e1a0e637",
   "metadata": {},
   "outputs": [],
   "source": [
    "col = 'What image analysis tools have you used before? (check all that apply)'\n",
    "\n",
    "# having ', ' pattern in text response is problematic for parsing multi-select\n",
    "df[col] = df[col].str.replace(\" \\(Columbus, Nikon Elements, Softworx, Zen, etc\\)\",\"\", regex=True)\n",
    "df[col] = df[col].str.replace(\" \\(Imaris, Huygens, Volocity, etc\\)\",\"\", regex=True)\n",
    "df[col] = df[col].str.replace(\" \\(ImageJ, Fiji, QuPath, Icy, CellProfiler, napari, etc\\)\",\"\", regex=True)\n",
    "df[col] = df[col].str.replace(\" \\(Python e.g. scikit-image, MATLAB, etc\\)\",\"\", regex=True)\n",
    "# \"None\"  isn't being parsed correctly\n",
    "df[col] = df[col].fillna(value='No tools')"
   ]
  },
  {
   "cell_type": "code",
   "execution_count": 8,
   "id": "dbb27180",
   "metadata": {},
   "outputs": [],
   "source": [
    "col = 'What image analysis tools have you used before? (check all that apply).1'\n",
    "\n",
    "# having ', ' pattern in text response is problematic for parsing multi-select\n",
    "df[col] = df[col].str.replace(\" \\(AutoMET, Gatan Digital Micrograph, Aztec, etc\\)\",\"\", regex=True)\n",
    "df[col] = df[col].str.replace(\" \\(Avizo, Imaris, Volocity, etc\\)\",\"\", regex=True)\n",
    "df[col] = df[col].str.replace(\" \\(ImageJ, Fiji, Gwyddion, etc\\)\",\"\", regex=True)\n",
    "df[col] = df[col].str.replace(\" \\(Python e.g. scikit-image, MATLAB, etc\\)\",\"\", regex=True)\n",
    "# \"None\"  isn't being parsed correctly\n",
    "df[col] = df[col].fillna(value='No tools')"
   ]
  },
  {
   "cell_type": "code",
   "execution_count": 9,
   "id": "ba451de4",
   "metadata": {},
   "outputs": [],
   "source": [
    "col = 'What image analysis tools do you use the most?'\n",
    "# \"None\"  isn't being parsed correctly\n",
    "df[col] = df[col].fillna(value='No tools')\n",
    "\n",
    "col = 'What image analysis tools do you use the most?.1'\n",
    "# \"None\"  isn't being parsed correctly\n",
    "df[col] = df[col].fillna(value='No tools')"
   ]
  },
  {
   "cell_type": "code",
   "execution_count": 10,
   "id": "63360bd8",
   "metadata": {},
   "outputs": [],
   "source": [
    "# Place scales into bins\n",
    "df['Work'] = 'TBD'\n",
    "df.loc[df['How would you describe your work?']>5, 'Work'] = 'Analyst'\n",
    "df.loc[df['How would you describe your work?']<3, 'Work'] = 'Imaging'\n",
    "df.loc[df['How would you describe your work?'].isin([3,4,5]), 'Work'] = 'Balanced'\n",
    "df['Computation'] = 'TBD'\n",
    "df.loc[df['How would you rate your computational skills?']>5, 'Computation'] = 'High Skill'\n",
    "df.loc[df['How would you rate your computational skills?']<3, 'Computation'] = 'Low Skill'\n",
    "df.loc[df['How would you rate your computational skills?'].isin([3,4,5]), 'Computation'] = 'Medium Skill'\n",
    "df['Comfort'] = 'TBD'\n",
    "df.loc[df['How would you rate your comfort in developing new computational skills?']>5, 'Comfort'] = 'High Comfort'\n",
    "df.loc[df['How would you rate your comfort in developing new computational skills?']<3, 'Comfort'] = 'Low Comfort'\n",
    "df.loc[df['How would you rate your comfort in developing new computational skills?'].isin([3,4,5]), 'Comfort'] = 'Medium Comfort'\n",
    "df['Manual'] = 'TBD'\n",
    "df.loc[df['How manual would you say your current typical analysis workflow(s) are? ']>5, 'Manual'] = 'Highly Manual'\n",
    "df.loc[df['How manual would you say your current typical analysis workflow(s) are? ']<3, 'Manual'] = 'Highly Automated'\n",
    "df.loc[df['How manual would you say your current typical analysis workflow(s) are? '].isin([3,4,5]), 'Manual'] = 'Variable Automation'"
   ]
  },
  {
   "cell_type": "code",
   "execution_count": 11,
   "id": "486bfc9b",
   "metadata": {},
   "outputs": [],
   "source": [
    "# Make column of Physical vs Life Sciences\n",
    "LS_PS_col = 'The next question will ask you about particular image analysis tools and techniques. Do you want to answer questions about microscopy in the field/area of life sciences or physical sciences?'\n",
    "df['Science_Cat'] = 'TBD'\n",
    "df.loc[df[LS_PS_col] == 'Life sciences: e.g. biology, biomedicine','Science_Cat'] = 'Life Sciences'\n",
    "df.loc[df[LS_PS_col] == 'Physical sciences: e.g. chemistry, geology, materials sciences','Science_Cat'] = 'Physical Sciences'"
   ]
  },
  {
   "cell_type": "code",
   "execution_count": 12,
   "id": "2b29a0ba",
   "metadata": {},
   "outputs": [],
   "source": [
    "# having ', ' pattern in text response is problematic for parsing multi-select\n",
    "col = 'Where did you hear about this survey? Please select all that apply.'\n",
    "df[col] = df[col].str.replace(\" \\(LinkedIN, BlueSky, Mastodon\\)\",\"\", regex=True)\n",
    "\n",
    "col = 'How would you most prefer to be notified about image analysis workshops, sessions, or conferences being planned?'\n",
    "df[col] = df[col].str.replace(\" \\(LinkedIN, BlueSky, Mastodon\\)\",\"\", regex=True)"
   ]
  },
  {
   "cell_type": "code",
   "execution_count": 13,
   "id": "ae461087",
   "metadata": {},
   "outputs": [],
   "source": [
    "col = 'Have you put into practice things you have learned at image analysis workshops/tutorials? If not, why not?'\n",
    "df[col] = df[col].fillna('')\n",
    "df['In_Practice'] = ''\n",
    "pos_list = ['yes','Yes','all the time','Absolutely','YES',\"adapated\",\"sometimes\",\"Sometime\",'repeated','partially','Si','Always','I have',\n",
    "            'Of course','tried','Some','Partially','Most','Repeated','depends','Adapted','work in progress',\n",
    "            'CLIJ','automation','particle','record macros']\n",
    "pattern = '|'.join(pos_list)\n",
    "df.loc[df[col].str.contains(pattern, regex=True),'In_Practice'] = 'Yes'\n",
    "\n",
    "neg_list = ['No','no','not','didn\\'t',\n",
    "            'issues','Too much time','had time','lot of time','Lack','time cost','weren\\'t right','commercial',\n",
    "            'didn\\'t provide']\n",
    "pattern = '|'.join(neg_list)\n",
    "df.loc[df[col].str.contains(pattern),'In_Practice'] = 'No'"
   ]
  },
  {
   "cell_type": "code",
   "execution_count": 14,
   "id": "8c54ec29",
   "metadata": {},
   "outputs": [],
   "source": [
    "df.to_csv(os.path.join('data','cleaned_responses.csv'), index=False)"
   ]
  },
  {
   "cell_type": "code",
   "execution_count": null,
   "id": "8292110f",
   "metadata": {},
   "outputs": [],
   "source": []
  }
 ],
 "metadata": {
  "kernelspec": {
   "display_name": "run_stuff",
   "language": "python",
   "name": "python3"
  },
  "language_info": {
   "codemirror_mode": {
    "name": "ipython",
    "version": 3
   },
   "file_extension": ".py",
   "mimetype": "text/x-python",
   "name": "python",
   "nbconvert_exporter": "python",
   "pygments_lexer": "ipython3",
   "version": "3.9.15"
  }
 },
 "nbformat": 4,
 "nbformat_minor": 5
}
